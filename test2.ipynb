{
  "nbformat": 4,
  "nbformat_minor": 0,
  "metadata": {
    "colab": {
      "provenance": []
    },
    "kernelspec": {
      "name": "python3",
      "display_name": "Python 3"
    },
    "language_info": {
      "name": "python"
    }
  },
  "cells": [
    {
      "cell_type": "markdown",
      "source": [
        "First Unique Character in a String\n",
        "\n",
        "Given a string s, find the first non-repeating character in it and return its index. If it does not exist, return -1.\n",
        "\n",
        "Example 1:\n",
        "Input: s = \"leetcode\"\n",
        "Output: 0\n",
        "\n",
        "Example 2:\n",
        "Input: s = \"loveleetcode\"\n",
        "Output: 2\n",
        "\n",
        "Example 3:\n",
        "Input: s = \"aabb\"\n",
        "Output: -1\n",
        "\n",
        "Constraints:\n",
        "a. 1 <= s.length <= 10^5\n",
        "b. s consists of only lowercase English letters.\n"
      ],
      "metadata": {
        "id": "GpMqiYHRpKIk"
      }
    },
    {
      "cell_type": "code",
      "source": [
        "class Solution(object):\n",
        "   def firstUniqChar(self, s):\n",
        "      \"\"\"\n",
        "      :type s: str\n",
        "      :rtype: int\n",
        "      \"\"\"\n",
        "      frequency = {}\n",
        "      for i in s:\n",
        "         if i not in frequency:\n",
        "            frequency[i] = 1\n",
        "         else:\n",
        "            frequency[i] +=1\n",
        "      for i in range(len(s)):\n",
        "         if frequency[s[i]] == 1:\n",
        "            return i\n",
        "      return -1\n",
        "ob1 = Solution()\n",
        "print(ob1.firstUniqChar(\"leetcode\"))\n",
        "print(ob1.firstUniqChar(\"loveleetcode\"))\n",
        "print(ob1.firstUniqChar(\"aabb\"))"
      ],
      "metadata": {
        "colab": {
          "base_uri": "https://localhost:8080/"
        },
        "id": "YhkgbmH1pKi8",
        "outputId": "ecc0df04-be3b-4552-828c-9a8a9d320ae2"
      },
      "execution_count": 2,
      "outputs": [
        {
          "output_type": "stream",
          "name": "stdout",
          "text": [
            "0\n",
            "2\n",
            "-1\n"
          ]
        }
      ]
    },
    {
      "cell_type": "code",
      "source": [],
      "metadata": {
        "id": "PgwoA9s9pvZy"
      },
      "execution_count": null,
      "outputs": []
    }
  ]
}